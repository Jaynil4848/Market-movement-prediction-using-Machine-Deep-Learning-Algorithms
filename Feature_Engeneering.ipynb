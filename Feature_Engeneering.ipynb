{
 "cells": [
  {
   "cell_type": "code",
   "execution_count": 2,
   "id": "e7f7f816",
   "metadata": {},
   "outputs": [],
   "source": [
    "import pandas as pd\n",
    "import numpy as np\n",
    "import os\n",
    "from glob import glob\n",
    "from sklearn.ensemble import RandomForestRegressor\n",
    "from sklearn.preprocessing import StandardScaler\n",
    "from sklearn.model_selection import train_test_split\n",
    "import matplotlib.pyplot as plt\n",
    "import seaborn as sns\n",
    "\n",
    "# Folder path where your CSVs are stored\n",
    "DATA_DIR = 'nifty100_stock_data'  # <-- Replace this\n"
   ]
  },
  {
   "cell_type": "code",
   "execution_count": 3,
   "id": "888e76e4",
   "metadata": {},
   "outputs": [
    {
     "name": "stdout",
     "output_type": "stream",
     "text": [
      "Shape: (392441, 27)\n"
     ]
    },
    {
     "data": {
      "text/html": [
       "<div>\n",
       "<style scoped>\n",
       "    .dataframe tbody tr th:only-of-type {\n",
       "        vertical-align: middle;\n",
       "    }\n",
       "\n",
       "    .dataframe tbody tr th {\n",
       "        vertical-align: top;\n",
       "    }\n",
       "\n",
       "    .dataframe thead th {\n",
       "        text-align: right;\n",
       "    }\n",
       "</style>\n",
       "<table border=\"1\" class=\"dataframe\">\n",
       "  <thead>\n",
       "    <tr style=\"text-align: right;\">\n",
       "      <th></th>\n",
       "      <th>Date</th>\n",
       "      <th>Close Price</th>\n",
       "      <th>High Price</th>\n",
       "      <th>Low Price</th>\n",
       "      <th>Open Price</th>\n",
       "      <th>Total Traded Quantity</th>\n",
       "      <th>Symbol</th>\n",
       "      <th>Prev Close</th>\n",
       "      <th>Average Price</th>\n",
       "      <th>SMA_10</th>\n",
       "      <th>...</th>\n",
       "      <th>RSI</th>\n",
       "      <th>Upper_BB</th>\n",
       "      <th>Lower_BB</th>\n",
       "      <th>ATR</th>\n",
       "      <th>ADX</th>\n",
       "      <th>Stochastic</th>\n",
       "      <th>CCI</th>\n",
       "      <th>Lag_10</th>\n",
       "      <th>Lag_50</th>\n",
       "      <th>Lag_200</th>\n",
       "    </tr>\n",
       "  </thead>\n",
       "  <tbody>\n",
       "    <tr>\n",
       "      <th>0</th>\n",
       "      <td>2006-03-29</td>\n",
       "      <td>95.773697</td>\n",
       "      <td>97.301013</td>\n",
       "      <td>95.539352</td>\n",
       "      <td>96.260400</td>\n",
       "      <td>328068.0</td>\n",
       "      <td>ABB.NS_data</td>\n",
       "      <td>96.232544</td>\n",
       "      <td>96.204687</td>\n",
       "      <td>97.428170</td>\n",
       "      <td>...</td>\n",
       "      <td>64.362298</td>\n",
       "      <td>103.968503</td>\n",
       "      <td>85.807704</td>\n",
       "      <td>2.872705</td>\n",
       "      <td>50.249395</td>\n",
       "      <td>44.421976</td>\n",
       "      <td>20.637766</td>\n",
       "      <td>97.328873</td>\n",
       "      <td>65.482971</td>\n",
       "      <td>43.654766</td>\n",
       "    </tr>\n",
       "    <tr>\n",
       "      <th>1</th>\n",
       "      <td>2006-03-30</td>\n",
       "      <td>94.570847</td>\n",
       "      <td>96.850355</td>\n",
       "      <td>93.835049</td>\n",
       "      <td>96.679924</td>\n",
       "      <td>1085972.0</td>\n",
       "      <td>ABB.NS_data</td>\n",
       "      <td>95.773697</td>\n",
       "      <td>95.085417</td>\n",
       "      <td>97.055356</td>\n",
       "      <td>...</td>\n",
       "      <td>58.954261</td>\n",
       "      <td>102.871906</td>\n",
       "      <td>88.013901</td>\n",
       "      <td>2.882891</td>\n",
       "      <td>48.392208</td>\n",
       "      <td>9.472556</td>\n",
       "      <td>-9.996483</td>\n",
       "      <td>98.298988</td>\n",
       "      <td>66.172867</td>\n",
       "      <td>42.809162</td>\n",
       "    </tr>\n",
       "    <tr>\n",
       "      <th>2</th>\n",
       "      <td>2006-03-31</td>\n",
       "      <td>95.967049</td>\n",
       "      <td>98.028600</td>\n",
       "      <td>94.719958</td>\n",
       "      <td>95.309908</td>\n",
       "      <td>948941.0</td>\n",
       "      <td>ABB.NS_data</td>\n",
       "      <td>94.570847</td>\n",
       "      <td>96.238536</td>\n",
       "      <td>96.895576</td>\n",
       "      <td>...</td>\n",
       "      <td>62.855674</td>\n",
       "      <td>102.076833</td>\n",
       "      <td>89.768299</td>\n",
       "      <td>2.923953</td>\n",
       "      <td>47.083184</td>\n",
       "      <td>29.301611</td>\n",
       "      <td>4.381480</td>\n",
       "      <td>97.564842</td>\n",
       "      <td>66.336746</td>\n",
       "      <td>42.740337</td>\n",
       "    </tr>\n",
       "    <tr>\n",
       "      <th>3</th>\n",
       "      <td>2006-04-03</td>\n",
       "      <td>100.570312</td>\n",
       "      <td>101.569954</td>\n",
       "      <td>96.358719</td>\n",
       "      <td>97.276420</td>\n",
       "      <td>820584.0</td>\n",
       "      <td>ABB.NS_data</td>\n",
       "      <td>95.967049</td>\n",
       "      <td>99.499662</td>\n",
       "      <td>97.183669</td>\n",
       "      <td>...</td>\n",
       "      <td>72.228258</td>\n",
       "      <td>101.793907</td>\n",
       "      <td>91.327814</td>\n",
       "      <td>3.115306</td>\n",
       "      <td>46.862119</td>\n",
       "      <td>87.076226</td>\n",
       "      <td>91.998013</td>\n",
       "      <td>97.689392</td>\n",
       "      <td>67.539612</td>\n",
       "      <td>42.953369</td>\n",
       "    </tr>\n",
       "    <tr>\n",
       "      <th>4</th>\n",
       "      <td>2006-04-04</td>\n",
       "      <td>101.587975</td>\n",
       "      <td>103.339802</td>\n",
       "      <td>100.783346</td>\n",
       "      <td>102.389325</td>\n",
       "      <td>683448.0</td>\n",
       "      <td>ABB.NS_data</td>\n",
       "      <td>100.570312</td>\n",
       "      <td>101.903708</td>\n",
       "      <td>97.535837</td>\n",
       "      <td>...</td>\n",
       "      <td>73.802082</td>\n",
       "      <td>101.608466</td>\n",
       "      <td>92.768540</td>\n",
       "      <td>3.090605</td>\n",
       "      <td>47.044032</td>\n",
       "      <td>81.568932</td>\n",
       "      <td>177.949025</td>\n",
       "      <td>98.066292</td>\n",
       "      <td>68.876816</td>\n",
       "      <td>43.390919</td>\n",
       "    </tr>\n",
       "  </tbody>\n",
       "</table>\n",
       "<p>5 rows × 27 columns</p>\n",
       "</div>"
      ],
      "text/plain": [
       "        Date  Close Price  High Price   Low Price  Open Price  \\\n",
       "0 2006-03-29    95.773697   97.301013   95.539352   96.260400   \n",
       "1 2006-03-30    94.570847   96.850355   93.835049   96.679924   \n",
       "2 2006-03-31    95.967049   98.028600   94.719958   95.309908   \n",
       "3 2006-04-03   100.570312  101.569954   96.358719   97.276420   \n",
       "4 2006-04-04   101.587975  103.339802  100.783346  102.389325   \n",
       "\n",
       "   Total Traded Quantity       Symbol  Prev Close  Average Price     SMA_10  \\\n",
       "0               328068.0  ABB.NS_data   96.232544      96.204687  97.428170   \n",
       "1              1085972.0  ABB.NS_data   95.773697      95.085417  97.055356   \n",
       "2               948941.0  ABB.NS_data   94.570847      96.238536  96.895576   \n",
       "3               820584.0  ABB.NS_data   95.967049      99.499662  97.183669   \n",
       "4               683448.0  ABB.NS_data  100.570312     101.903708  97.535837   \n",
       "\n",
       "   ...        RSI    Upper_BB   Lower_BB       ATR        ADX  Stochastic  \\\n",
       "0  ...  64.362298  103.968503  85.807704  2.872705  50.249395   44.421976   \n",
       "1  ...  58.954261  102.871906  88.013901  2.882891  48.392208    9.472556   \n",
       "2  ...  62.855674  102.076833  89.768299  2.923953  47.083184   29.301611   \n",
       "3  ...  72.228258  101.793907  91.327814  3.115306  46.862119   87.076226   \n",
       "4  ...  73.802082  101.608466  92.768540  3.090605  47.044032   81.568932   \n",
       "\n",
       "          CCI     Lag_10     Lag_50    Lag_200  \n",
       "0   20.637766  97.328873  65.482971  43.654766  \n",
       "1   -9.996483  98.298988  66.172867  42.809162  \n",
       "2    4.381480  97.564842  66.336746  42.740337  \n",
       "3   91.998013  97.689392  67.539612  42.953369  \n",
       "4  177.949025  98.066292  68.876816  43.390919  \n",
       "\n",
       "[5 rows x 27 columns]"
      ]
     },
     "execution_count": 3,
     "metadata": {},
     "output_type": "execute_result"
    }
   ],
   "source": [
    "###Loading and combining all the csv files \n",
    "def load_all_data(folder_path):\n",
    "    all_files = glob(os.path.join(folder_path, '*.csv'))\n",
    "    df_list = []\n",
    "\n",
    "    for file in all_files:\n",
    "        symbol = os.path.basename(file).replace('.csv', '')\n",
    "        df = pd.read_csv(file)\n",
    "        df['Symbol'] = symbol\n",
    "        df_list.append(df)\n",
    "\n",
    "    full_df = pd.concat(df_list, ignore_index=True)\n",
    "    full_df['Date'] = pd.to_datetime(full_df['Date'])\n",
    "    full_df.sort_values(by=['Symbol', 'Date'], inplace=True)\n",
    "    return full_df\n",
    "\n",
    "df = load_all_data(DATA_DIR)\n",
    "print(\"Shape:\", df.shape)\n",
    "df.head()\n"
   ]
  },
  {
   "cell_type": "code",
   "execution_count": 4,
   "id": "0aed894a",
   "metadata": {},
   "outputs": [],
   "source": [
    "df['Close_Price_Shift'] = df.groupby('Symbol')['Close Price'].shift(-1)\n",
    "df['Target'] = df['Close_Price_Shift'] - df['Close Price']\n",
    "df['Target_pct'] = (df['Target'] / df['Close Price']) * 100\n"
   ]
  },
  {
   "cell_type": "code",
   "execution_count": 5,
   "id": "4f1ae5eb",
   "metadata": {},
   "outputs": [],
   "source": [
    "def add_derived_features(df):\n",
    "    df['Price_vs_SMA10'] = (df['Close Price'] - df['SMA_10']) / df['SMA_10']\n",
    "    df['Price_vs_EMA50'] = (df['Close Price'] - df['EMA_50']) / df['EMA_50']\n",
    "    df['Return_1d'] = df.groupby('Symbol')['Close Price'].pct_change(1)\n",
    "    df['Return_3d'] = df.groupby('Symbol')['Close Price'].pct_change(3)\n",
    "    df['Return_5d'] = df.groupby('Symbol')['Close Price'].pct_change(5)\n",
    "    df['RollingStd_5'] = df.groupby('Symbol')['Close Price'].rolling(window=5).std().reset_index(level=0, drop=True)\n",
    "    return df\n",
    "\n",
    "df = add_derived_features(df)\n"
   ]
  },
  {
   "cell_type": "code",
   "execution_count": 6,
   "id": "41c4c292",
   "metadata": {},
   "outputs": [
    {
     "name": "stdout",
     "output_type": "stream",
     "text": [
      "Remaining rows after dropping NaNs: (390903, 36)\n"
     ]
    }
   ],
   "source": [
    "df.dropna(inplace=True)\n",
    "print(\"Remaining rows after dropping NaNs:\", df.shape)\n"
   ]
  },
  {
   "cell_type": "code",
   "execution_count": 7,
   "id": "f8681186",
   "metadata": {},
   "outputs": [],
   "source": [
    "FEATURES = [col for col in df.columns if col not in ['Date', 'Symbol', 'Target', 'Target_pct']]\n",
    "TARGET = 'Target_pct'  # or 'Target'\n",
    "\n",
    "X = df[FEATURES]\n",
    "y = df[TARGET]\n",
    "\n",
    "# Scale features if needed\n",
    "scaler = StandardScaler()\n",
    "X_scaled = scaler.fit_transform(X)\n",
    "\n",
    "# Train-test split\n",
    "X_train, X_test, y_train, y_test = train_test_split(X_scaled, y, test_size=0.2, random_state=42)\n"
   ]
  },
  {
   "cell_type": "code",
   "execution_count": 10,
   "id": "5992f29f",
   "metadata": {},
   "outputs": [
    {
     "name": "stdout",
     "output_type": "stream",
     "text": [
      "⏳ Training HistGradientBoostingRegressor...\n",
      "Binning 0.072 GB of training data: 2.379 s\n",
      "Binning 0.008 GB of validation data: 1.267 s\n",
      "Fitting gradient boosted rounds:\n",
      "Fit 100 trees in 106.056 s, (3100 total leaves)\n",
      "Time spent computing histograms: 42.560s\n",
      "Time spent finding best splits:  23.395s\n",
      "Time spent applying splits:      29.573s\n",
      "Time spent predicting:           0.624s\n",
      "✅ Training completed in 106.08 seconds\n"
     ]
    },
    {
     "ename": "TypeError",
     "evalue": "got an unexpected keyword argument 'squared'",
     "output_type": "error",
     "traceback": [
      "\u001b[1;31m---------------------------------------------------------------------------\u001b[0m",
      "\u001b[1;31mTypeError\u001b[0m                                 Traceback (most recent call last)",
      "Cell \u001b[1;32mIn[10], line 23\u001b[0m\n\u001b[0;32m     21\u001b[0m r2 \u001b[38;5;241m=\u001b[39m r2_score(y_test, y_pred)\n\u001b[0;32m     22\u001b[0m mae \u001b[38;5;241m=\u001b[39m mean_absolute_error(y_test, y_pred)\n\u001b[1;32m---> 23\u001b[0m rmse \u001b[38;5;241m=\u001b[39m \u001b[43mmean_squared_error\u001b[49m\u001b[43m(\u001b[49m\u001b[43my_test\u001b[49m\u001b[43m,\u001b[49m\u001b[43m \u001b[49m\u001b[43my_pred\u001b[49m\u001b[43m,\u001b[49m\u001b[43m \u001b[49m\u001b[43msquared\u001b[49m\u001b[38;5;241;43m=\u001b[39;49m\u001b[38;5;28;43;01mFalse\u001b[39;49;00m\u001b[43m)\u001b[49m\n\u001b[0;32m     25\u001b[0m \u001b[38;5;28mprint\u001b[39m(\u001b[38;5;124mf\u001b[39m\u001b[38;5;124m\"\u001b[39m\u001b[38;5;124m📊 Model Performance:\u001b[39m\u001b[38;5;124m\"\u001b[39m)\n\u001b[0;32m     26\u001b[0m \u001b[38;5;28mprint\u001b[39m(\u001b[38;5;124mf\u001b[39m\u001b[38;5;124m\"\u001b[39m\u001b[38;5;124m - R² Score: \u001b[39m\u001b[38;5;132;01m{\u001b[39;00mr2\u001b[38;5;132;01m:\u001b[39;00m\u001b[38;5;124m.4f\u001b[39m\u001b[38;5;132;01m}\u001b[39;00m\u001b[38;5;124m\"\u001b[39m)\n",
      "File \u001b[1;32mc:\\Users\\jayne\\AppData\\Local\\Programs\\Python\\Python312\\Lib\\site-packages\\sklearn\\utils\\_param_validation.py:194\u001b[0m, in \u001b[0;36mvalidate_params.<locals>.decorator.<locals>.wrapper\u001b[1;34m(*args, **kwargs)\u001b[0m\n\u001b[0;32m    191\u001b[0m func_sig \u001b[38;5;241m=\u001b[39m signature(func)\n\u001b[0;32m    193\u001b[0m \u001b[38;5;66;03m# Map *args/**kwargs to the function signature\u001b[39;00m\n\u001b[1;32m--> 194\u001b[0m params \u001b[38;5;241m=\u001b[39m \u001b[43mfunc_sig\u001b[49m\u001b[38;5;241;43m.\u001b[39;49m\u001b[43mbind\u001b[49m\u001b[43m(\u001b[49m\u001b[38;5;241;43m*\u001b[39;49m\u001b[43margs\u001b[49m\u001b[43m,\u001b[49m\u001b[43m \u001b[49m\u001b[38;5;241;43m*\u001b[39;49m\u001b[38;5;241;43m*\u001b[39;49m\u001b[43mkwargs\u001b[49m\u001b[43m)\u001b[49m\n\u001b[0;32m    195\u001b[0m params\u001b[38;5;241m.\u001b[39mapply_defaults()\n\u001b[0;32m    197\u001b[0m \u001b[38;5;66;03m# ignore self/cls and positional/keyword markers\u001b[39;00m\n",
      "File \u001b[1;32mc:\\Users\\jayne\\AppData\\Local\\Programs\\Python\\Python312\\Lib\\inspect.py:3267\u001b[0m, in \u001b[0;36mSignature.bind\u001b[1;34m(self, *args, **kwargs)\u001b[0m\n\u001b[0;32m   3262\u001b[0m \u001b[38;5;28;01mdef\u001b[39;00m \u001b[38;5;21mbind\u001b[39m(\u001b[38;5;28mself\u001b[39m, \u001b[38;5;241m/\u001b[39m, \u001b[38;5;241m*\u001b[39margs, \u001b[38;5;241m*\u001b[39m\u001b[38;5;241m*\u001b[39mkwargs):\n\u001b[0;32m   3263\u001b[0m \u001b[38;5;250m    \u001b[39m\u001b[38;5;124;03m\"\"\"Get a BoundArguments object, that maps the passed `args`\u001b[39;00m\n\u001b[0;32m   3264\u001b[0m \u001b[38;5;124;03m    and `kwargs` to the function's signature.  Raises `TypeError`\u001b[39;00m\n\u001b[0;32m   3265\u001b[0m \u001b[38;5;124;03m    if the passed arguments can not be bound.\u001b[39;00m\n\u001b[0;32m   3266\u001b[0m \u001b[38;5;124;03m    \"\"\"\u001b[39;00m\n\u001b[1;32m-> 3267\u001b[0m     \u001b[38;5;28;01mreturn\u001b[39;00m \u001b[38;5;28;43mself\u001b[39;49m\u001b[38;5;241;43m.\u001b[39;49m\u001b[43m_bind\u001b[49m\u001b[43m(\u001b[49m\u001b[43margs\u001b[49m\u001b[43m,\u001b[49m\u001b[43m \u001b[49m\u001b[43mkwargs\u001b[49m\u001b[43m)\u001b[49m\n",
      "File \u001b[1;32mc:\\Users\\jayne\\AppData\\Local\\Programs\\Python\\Python312\\Lib\\inspect.py:3256\u001b[0m, in \u001b[0;36mSignature._bind\u001b[1;34m(self, args, kwargs, partial)\u001b[0m\n\u001b[0;32m   3246\u001b[0m         \u001b[38;5;28;01mraise\u001b[39;00m \u001b[38;5;167;01mTypeError\u001b[39;00m(\n\u001b[0;32m   3247\u001b[0m             \u001b[38;5;124m'\u001b[39m\u001b[38;5;124mgot some positional-only arguments passed as \u001b[39m\u001b[38;5;124m'\u001b[39m\n\u001b[0;32m   3248\u001b[0m             \u001b[38;5;124m'\u001b[39m\u001b[38;5;124mkeyword arguments: \u001b[39m\u001b[38;5;132;01m{arg!r}\u001b[39;00m\u001b[38;5;124m'\u001b[39m\u001b[38;5;241m.\u001b[39mformat(\n\u001b[1;32m   (...)\u001b[0m\n\u001b[0;32m   3253\u001b[0m             ),\n\u001b[0;32m   3254\u001b[0m         )\n\u001b[0;32m   3255\u001b[0m     \u001b[38;5;28;01melse\u001b[39;00m:\n\u001b[1;32m-> 3256\u001b[0m         \u001b[38;5;28;01mraise\u001b[39;00m \u001b[38;5;167;01mTypeError\u001b[39;00m(\n\u001b[0;32m   3257\u001b[0m             \u001b[38;5;124m'\u001b[39m\u001b[38;5;124mgot an unexpected keyword argument \u001b[39m\u001b[38;5;132;01m{arg!r}\u001b[39;00m\u001b[38;5;124m'\u001b[39m\u001b[38;5;241m.\u001b[39mformat(\n\u001b[0;32m   3258\u001b[0m                 arg\u001b[38;5;241m=\u001b[39m\u001b[38;5;28mnext\u001b[39m(\u001b[38;5;28miter\u001b[39m(kwargs))))\n\u001b[0;32m   3260\u001b[0m \u001b[38;5;28;01mreturn\u001b[39;00m \u001b[38;5;28mself\u001b[39m\u001b[38;5;241m.\u001b[39m_bound_arguments_cls(\u001b[38;5;28mself\u001b[39m, arguments)\n",
      "\u001b[1;31mTypeError\u001b[0m: got an unexpected keyword argument 'squared'"
     ]
    }
   ],
   "source": [
    "from sklearn.ensemble import HistGradientBoostingRegressor\n",
    "from sklearn.metrics import mean_squared_error, mean_absolute_error, r2_score\n",
    "import time\n",
    "\n",
    "# Start timing\n",
    "start_time = time.time()\n",
    "\n",
    "# Train HistGradientBoostingRegressor\n",
    "print(\"⏳ Training HistGradientBoostingRegressor...\")\n",
    "model = HistGradientBoostingRegressor(max_iter=100, random_state=42, verbose=1)\n",
    "model.fit(X_train, y_train)\n",
    "\n",
    "# End timing\n",
    "end_time = time.time()\n",
    "print(f\"✅ Training completed in {end_time - start_time:.2f} seconds\")\n",
    "\n",
    "# Predictions\n",
    "y_pred = model.predict(X_test)\n",
    "\n",
    "# Evaluation\n",
    "r2 = r2_score(y_test, y_pred)\n",
    "mae = mean_absolute_error(y_test, y_pred)\n",
    "rmse = mean_squared_error(y_test, y_pred, squared=False)\n",
    "\n",
    "print(f\"📊 Model Performance:\")\n",
    "print(f\" - R² Score: {r2:.4f}\")\n",
    "print(f\" - MAE: {mae:.4f}\")\n",
    "print(f\" - RMSE: {rmse:.4f}\")\n"
   ]
  },
  {
   "cell_type": "code",
   "execution_count": 12,
   "id": "96850961",
   "metadata": {},
   "outputs": [
    {
     "name": "stdout",
     "output_type": "stream",
     "text": [
      "🔍 Calculating permutation feature importances... (this may take a moment)\n"
     ]
    },
    {
     "data": {
      "image/png": "[encoded data removed]",
      "text/plain": [
       "<Figure size 1200x600 with 1 Axes>"
      ]
     },
     "metadata": {},
     "output_type": "display_data"
    },
    {
     "name": "stdout",
     "output_type": "stream",
     "text": [
      "📌 Retained 23 important features.\n"
     ]
    }
   ],
   "source": [
    "from sklearn.inspection import permutation_importance\n",
    "\n",
    "print(\"🔍 Calculating permutation feature importances... (this may take a moment)\")\n",
    "perm = permutation_importance(model, X_test, y_test, n_repeats=10, random_state=42, n_jobs=1)\n",
    "\n",
    "importance_df = pd.DataFrame({\n",
    "    'Feature': FEATURES,\n",
    "    'Importance': perm.importances_mean\n",
    "}).sort_values(by='Importance', ascending=False)\n",
    "\n",
    "# Plot top 20\n",
    "plt.figure(figsize=(12, 6))\n",
    "sns.barplot(x='Importance', y='Feature', data=importance_df.head(20))\n",
    "plt.title(\"Top 20 Feature Importances (Permutation)\")\n",
    "plt.tight_layout()\n",
    "plt.show()\n",
    "\n",
    "# Optionally drop low-importance features\n",
    "important_features = importance_df[importance_df['Importance'] > 0.001]['Feature'].tolist()\n",
    "print(f\"📌 Retained {len(important_features)} important features.\")\n",
    "\n",
    "# Prepare reduced dataset for future modeling/export\n",
    "X_important = df[important_features]\n",
    "X_imp_scaled = scaler.fit_transform(X_important)\n",
    "\n",
    "# Train/test split again on reduced feature set\n",
    "X_train, X_test, y_train, y_test = train_test_split(X_imp_scaled, y, test_size=0.2, random_state=42)\n"
   ]
  },
  {
   "cell_type": "code",
   "execution_count": 13,
   "id": "7f8dfff7",
   "metadata": {},
   "outputs": [
    {
     "name": "stdout",
     "output_type": "stream",
     "text": [
      "✅ Dataset saved as 'nifty100_feature_engineered_important_features.csv' with important features.\n"
     ]
    }
   ],
   "source": [
    "# Reassemble final dataframe with important features\n",
    "final_df = df[['Date', 'Symbol'] + important_features + ['Target', 'Target_pct']]\n",
    "\n",
    "# Export the final dataframe with important features\n",
    "final_df.to_csv(\"nifty100_feature_engineered_important_features.csv\", index=False)\n",
    "\n",
    "print(\"✅ Dataset saved as 'nifty100_feature_engineered_important_features.csv' with important features.\")\n"
   ]
  },
  {
   "cell_type": "code",
   "execution_count": null,
   "id": "c0d08c00",
   "metadata": {},
   "outputs": [],
   "source": []
  },
  {
   "cell_type": "code",
   "execution_count": null,
   "id": "4c963272",
   "metadata": {},
   "outputs": [],
   "source": []
  },
  {
   "cell_type": "code",
   "execution_count": null,
   "id": "b71b202c",
   "metadata": {},
   "outputs": [],
   "source": []
  },
  {
   "cell_type": "code",
   "execution_count": null,
   "id": "f26d86e3",
   "metadata": {},
   "outputs": [],
   "source": []
  }
 ],
 "metadata": {
  "kernelspec": {
   "display_name": "Python 3",
   "language": "python",
   "name": "python3"
  },
  "language_info": {
   "codemirror_mode": {
    "name": "ipython",
    "version": 3
   },
   "file_extension": ".py",
   "mimetype": "text/x-python",
   "name": "python",
   "nbconvert_exporter": "python",
   "pygments_lexer": "ipython3",
   "version": "3.12.4"
  }
 },
 "nbformat": 4,
 "nbformat_minor": 5
}
